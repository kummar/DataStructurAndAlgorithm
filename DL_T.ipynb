{
 "cells": [
  {
   "cell_type": "markdown",
   "metadata": {},
   "source": [
    "## LeetCode "
   ]
  },
  {
   "cell_type": "code",
   "execution_count": 1,
   "metadata": {
    "collapsed": false
   },
   "outputs": [],
   "source": [
    "# 两数字相加问题\n",
    "# 对dict判断是不是in的内容是Key，不是Value。\n",
    "# 用了相减的处理方式\n",
    "\n",
    "def twoSum(nums, target):\n",
    "    \"\"\"\n",
    "    :type nums: List[int]\n",
    "    :type target: int\n",
    "    :rtype: List[int]\n",
    "    \"\"\"\n",
    "    dict_temp = dict()\n",
    "    for index, value in enumerate(nums):\n",
    "        if target - value in dict_temp:\n",
    "            \n",
    "            # dict_temp[target - value] 本身就已经是个index了，再给出当前输入值的index即可返回结果。\n",
    "            return [dict_temp[target - value], index]\n",
    "        dict_temp[value] = index"
   ]
  },
  {
   "cell_type": "code",
   "execution_count": 2,
   "metadata": {
    "collapsed": true
   },
   "outputs": [],
   "source": [
    "# 颠倒整数\n",
    "# 核心是直接可以使用Python的 reversed\n",
    "# 另外需要注意0,小于1,大于1的值\n",
    "\n",
    "def reverse(x):\n",
    "    \n",
    "    newstr = ''\n",
    "    \n",
    "    if x == 0:\n",
    "        return 0\n",
    "    \n",
    "    if x < 0:\n",
    "        xstr = str(abs(x))\n",
    "        for i in reversed(xstr):\n",
    "            newstr += i\n",
    "        output = '-' + newstr\n",
    "        if abs(int(newstr))>=(2 ** 31 - 1):\n",
    "            return 0\n",
    "        else:\n",
    "            return int(output)\n",
    "        \n",
    "    if x > 0:\n",
    "        for i in reversed(str(x)):\n",
    "            newstr += i\n",
    "        output = newstr\n",
    "        if abs(int(newstr))>=(2 ** 31 - 1):\n",
    "            return 0\n",
    "        else:\n",
    "            return int(output)"
   ]
  },
  {
   "cell_type": "code",
   "execution_count": 3,
   "metadata": {
    "collapsed": false
   },
   "outputs": [],
   "source": [
    "# 回文数\n",
    "# 关键是[::-1]表示从尾到头排列，然后判断是不是相等即可,只要知道颠倒整数就很Easy。\n",
    "\n",
    "def isPalindrome(x):\n",
    "    if x < 0:\n",
    "        return False\n",
    "    else:\n",
    "        reversed_str = str(x)\n",
    "        reversed_str = reversed_str[::-1]\n",
    "        \n",
    "        # 这个地方也要注意下\n",
    "        if x == int(reversed_str):\n",
    "            return True\n",
    "        else:\n",
    "            return False"
   ]
  },
  {
   "cell_type": "code",
   "execution_count": 4,
   "metadata": {
    "collapsed": true
   },
   "outputs": [],
   "source": [
    "# 合并两个有序链\n",
    "# 核心是使用pop，移除一个元素并返回该值,可以自行限定pop的index\n",
    "\n",
    "def mergeTwoLists(l1, l2):\n",
    "    l = []\n",
    "    while l1 and l2:\n",
    "        if l1[0] < l2[0]:\n",
    "            l.append(l1.pop(0))\n",
    "        else:\n",
    "            l.append(l2.pop(0))\n",
    "            \n",
    "    return l + l1 + l2"
   ]
  },
  {
   "cell_type": "code",
   "execution_count": 13,
   "metadata": {
    "collapsed": false
   },
   "outputs": [],
   "source": [
    "# 斐波那契数组\n",
    "# 核心是记得初始的两个值\n",
    "\n",
    "def fib(num):\n",
    "    a = 0\n",
    "    b = 1\n",
    "    l1 = [0]\n",
    "    for i in range(num):\n",
    "        a, b = b, a+b\n",
    "        l1.append(a)\n",
    "    return l1"
   ]
  },
  {
   "cell_type": "markdown",
   "metadata": {},
   "source": [
    "## 二叉树"
   ]
  },
  {
   "cell_type": "code",
   "execution_count": 5,
   "metadata": {
    "collapsed": false
   },
   "outputs": [],
   "source": [
    "# 二叉树\n",
    "class Tree():\n",
    "    '树的实现'\n",
    "    def __init__(self,ltree = 0,rtree = 0,data = 0):\n",
    "        self.ltree = ltree\n",
    "        self.rtree = rtree\n",
    "        self.data = data\n",
    "class BTree():\n",
    "    '二叉树的实现'\n",
    "    def __init__(self,base = 0):\n",
    "        self.base = base\n",
    "    def _Empty(self):\n",
    "        '是否为空树'\n",
    "        if self.base == 0:\n",
    "            return True\n",
    "        else:\n",
    "            return False\n",
    "    def qout(self,tree_base):\n",
    "        '前序遍历:根-左-右'\n",
    "        if tree_base == 0:\n",
    "            return\n",
    "        print tree_base.data\n",
    "        self.qout(tree_base.ltree)\n",
    "        self.qout(tree_base.rtree)\n",
    "    def mout(self,tree_base):\n",
    "        '中序遍历:左-根-右'\n",
    "        if tree_base == 0:\n",
    "            return\n",
    "        self.mout(tree_base.ltree)\n",
    "        print tree_base.data\n",
    "        self.mout(tree_base.rtree)\n",
    "    def hout(self,tree_base):\n",
    "        '后序遍历:左-右-根'\n",
    "        if tree_base == 0:\n",
    "            return\n",
    "        self.hout(tree_base.ltree)\n",
    "        self.hout(tree_base.rtree)\n",
    "        print tree_base.data"
   ]
  },
  {
   "cell_type": "markdown",
   "metadata": {
    "collapsed": true
   },
   "source": [
    "## 排序"
   ]
  },
  {
   "cell_type": "code",
   "execution_count": 38,
   "metadata": {
    "collapsed": false
   },
   "outputs": [],
   "source": [
    "# 插入排序\n",
    "# 核心是分两部分，一部分是排好序的，另一部分随机拿出来插入已经排序好的地方\n",
    "# 时间复杂度O(n^2)\n",
    "\n",
    "def insertionsort(A):\n",
    "    # 这边从第二个元素开始循环，因为第一个元素已经是排好序的了。\n",
    "    \n",
    "    for j in range(1,len(A)):\n",
    "        key = A[j] # 下一个我们要插入的值\n",
    "\n",
    "        i = j-1 # 上一个我们要比较的值\n",
    "        \n",
    "        # 现在我们持续向后移动，直到他小于最后一项\n",
    "        \n",
    "        while (i > -1) and key < A[i]: # i= -1就是开始的元素了\n",
    "            \n",
    "            A[i+1] = A[i] # \n",
    "            i = i-1 \n",
    "            \n",
    "        A[i+1] = key\n",
    "    return A"
   ]
  },
  {
   "cell_type": "markdown",
   "metadata": {},
   "source": [
    "## Numpy"
   ]
  },
  {
   "cell_type": "code",
   "execution_count": 12,
   "metadata": {
    "collapsed": false
   },
   "outputs": [],
   "source": [
    "import numpy as np\n",
    "\n",
    "# 就是欧式距离的计算公式\n",
    "def ODis(v1, v2):\n",
    "    dis = np.sqrt(np.sum(np.square((v1) - (v2)))) \n",
    "    return dis"
   ]
  },
  {
   "cell_type": "code",
   "execution_count": null,
   "metadata": {
    "collapsed": true
   },
   "outputs": [],
   "source": []
  }
 ],
 "metadata": {
  "kernelspec": {
   "display_name": "Python 2",
   "language": "python",
   "name": "python2"
  },
  "language_info": {
   "codemirror_mode": {
    "name": "ipython",
    "version": 2
   },
   "file_extension": ".py",
   "mimetype": "text/x-python",
   "name": "python",
   "nbconvert_exporter": "python",
   "pygments_lexer": "ipython2",
   "version": "2.7.13"
  }
 },
 "nbformat": 4,
 "nbformat_minor": 0
}
